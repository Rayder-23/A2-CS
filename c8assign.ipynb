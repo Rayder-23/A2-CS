{
 "cells": [
  {
   "cell_type": "code",
   "execution_count": 2,
   "id": "c187a448",
   "metadata": {},
   "outputs": [],
   "source": [
    "class ATM:\n",
    "    def __init__(self,balance:int= 5000,pin=\"1234\"):\n",
    "        self.balance = balance\n",
    "        self.pin = pin\n",
    "\n",
    "    def check_pin(self, input_pin: str, max_attempts: int = 3) -> bool:\n",
    "        attempts = 0\n",
    "        while attempts < max_attempts:\n",
    "            if input_pin == self.pin:\n",
    "                print(\"Pin Correct.\")\n",
    "                return True # Successful authentication\n",
    "            else:\n",
    "                attempts += 1\n",
    "                print(f\"Incorrect PIN. Attempts left: {max_attempts - attempts}\")\n",
    "                if attempts < max_attempts:\n",
    "                    input_pin = input(\"Re-enter PIN: \")\n",
    "        print(\"Too many incorrect attempts. Access denied.\")\n",
    "        return False    # Failed authentication\n",
    "\n",
    "    def check_balance(self,input_pin:str):\n",
    "        if self.check_pin(input_pin):\n",
    "            print(f\"Current Balance is: {self.balance}\")\n",
    "\n",
    "\n",
    "    def deposit(self,input_pin:str,amount:int):\n",
    "        if not self.check_pin(input_pin):\n",
    "            return\n",
    "        while amount <= 0:\n",
    "            print(\"Please enter a positive value.\")\n",
    "            amount = int(input(\"Enter amount: \"))\n",
    "        self.balance += amount\n",
    "        print(f\"Cash deposited: {amount}\")\n",
    "\n",
    "\n",
    "    def withdraw(self,input_pin:str,amount: int):\n",
    "        if not self.check_pin(input_pin):\n",
    "            return\n",
    "        while amount <= 0 or amount > self.balance:\n",
    "            if amount <= 0:\n",
    "                print(\"Amount must be greater than 0.\")\n",
    "            else:\n",
    "                print(\"Insufficient funds.\")\n",
    "            amount = int(input(\"Enter amount: \"))\n",
    "        self.balance -= amount\n",
    "        print(f\"Cash withdrawn: {amount}\")\n",
    "\n",
    "    def exit(self):\n",
    "        print(\"Thank you for using the ATM.\")"
   ]
  },
  {
   "cell_type": "code",
   "execution_count": 52,
   "id": "e785cd13",
   "metadata": {},
   "outputs": [
    {
     "name": "stdout",
     "output_type": "stream",
     "text": [
      "Pin Correct.\n",
      "Incorrect PIN. Attempts left: 2\n",
      "Pin Correct.\n"
     ]
    },
    {
     "data": {
      "text/plain": [
       "True"
      ]
     },
     "execution_count": 52,
     "metadata": {},
     "output_type": "execute_result"
    }
   ],
   "source": [
    "my_ATM = ATM(4000,\"2345\")\n",
    "\n",
    "my_ATM.check_pin(\"2345\")\n",
    "my_ATM.check_pin(\"1234\")"
   ]
  },
  {
   "cell_type": "code",
   "execution_count": 44,
   "id": "f981e7d9",
   "metadata": {},
   "outputs": [
    {
     "name": "stdout",
     "output_type": "stream",
     "text": [
      "Pin Correct.\n",
      "Current Balance is: 4000\n",
      "Incorrect PIN. Attempts left: 2\n",
      "Incorrect PIN. Attempts left: 1\n",
      "Pin Correct.\n",
      "Current Balance is: 4000\n"
     ]
    }
   ],
   "source": [
    "my_ATM.check_balance(\"2345\")\n",
    "my_ATM.check_balance(\"1234\")"
   ]
  },
  {
   "cell_type": "code",
   "execution_count": 59,
   "id": "560e390c",
   "metadata": {},
   "outputs": [
    {
     "name": "stdout",
     "output_type": "stream",
     "text": [
      "Pin Correct.\n",
      "Cash deposited: 4000\n",
      "Pin Correct.\n",
      "Current Balance is: 8000\n",
      "\n",
      "Pin Correct.\n",
      "Please enter a positive value.\n",
      "Cash deposited: 500\n",
      "Pin Correct.\n",
      "Current Balance is: 8500\n"
     ]
    }
   ],
   "source": [
    "my_ATM = ATM(4000,\"2345\")\n",
    "\n",
    "my_ATM.deposit(\"2345\",4000)\n",
    "my_ATM.check_balance(\"2345\")\n",
    "print(\"\")\n",
    "my_ATM.deposit(\"2345\",-4000)\n",
    "my_ATM.check_balance(\"2345\")"
   ]
  },
  {
   "cell_type": "code",
   "execution_count": 65,
   "id": "0e2b9a8e",
   "metadata": {},
   "outputs": [
    {
     "name": "stdout",
     "output_type": "stream",
     "text": [
      "Pin Correct.\n",
      "Cash withdrawn: 1000\n",
      "Pin Correct.\n",
      "Current Balance is: 3000\n",
      "\n",
      "Pin Correct.\n",
      "Amount must be greater than 0.\n",
      "Cash withdrawn: 500\n",
      "Pin Correct.\n",
      "Current Balance is: 2500\n",
      "\n",
      "Pin Correct.\n",
      "Insufficient funds.\n",
      "Cash withdrawn: 500\n",
      "Pin Correct.\n",
      "Current Balance is: 2000\n",
      "\n",
      "Thank you for using the ATM.\n"
     ]
    }
   ],
   "source": [
    "my_ATM = ATM(4000,\"2345\")\n",
    "\n",
    "my_ATM.withdraw(\"2345\",1000)\n",
    "my_ATM.check_balance(\"2345\")\n",
    "print(\"\")\n",
    "my_ATM.withdraw(\"2345\",-1000)\n",
    "my_ATM.check_balance(\"2345\")\n",
    "print(\"\")\n",
    "my_ATM.withdraw(\"2345\",5000)\n",
    "my_ATM.check_balance(\"2345\")\n",
    "print(\"\")\n",
    "my_ATM.exit()"
   ]
  },
  {
   "cell_type": "code",
   "execution_count": null,
   "id": "82624041",
   "metadata": {},
   "outputs": [
    {
     "name": "stdout",
     "output_type": "stream",
     "text": [
      "\n",
      "--- ATM Menu ---\n",
      "1. Check Balance\n",
      "2. Deposit\n",
      "3. Withdraw\n",
      "4. Exit\n",
      "Pin Correct.\n",
      "Current Balance is: 4000\n",
      "\n",
      "--- ATM Menu ---\n",
      "1. Check Balance\n",
      "2. Deposit\n",
      "3. Withdraw\n",
      "4. Exit\n",
      "Incorrect PIN. Attempts left: 2\n",
      "Incorrect PIN. Attempts left: 1\n",
      "Pin Correct.\n",
      "Cash deposited: 300\n",
      "\n",
      "--- ATM Menu ---\n",
      "1. Check Balance\n",
      "2. Deposit\n",
      "3. Withdraw\n",
      "4. Exit\n",
      "Incorrect PIN. Attempts left: 2\n",
      "Pin Correct.\n",
      "Cash withdrawn: 300\n",
      "\n",
      "--- ATM Menu ---\n",
      "1. Check Balance\n",
      "2. Deposit\n",
      "3. Withdraw\n",
      "4. Exit\n",
      "Pin Correct.\n",
      "Current Balance is: 4000\n",
      "\n",
      "--- ATM Menu ---\n",
      "1. Check Balance\n",
      "2. Deposit\n",
      "3. Withdraw\n",
      "4. Exit\n",
      "Thank you for using the ATM.\n"
     ]
    }
   ],
   "source": [
    "# Menu Interface\n",
    "my_ATM = ATM(4000, \"2345\")  \n",
    "\n",
    "while True:\n",
    "    print(\"\\n---ATM Menu---\")\n",
    "    print(\"1. Check Balance\")\n",
    "    print(\"2. Deposit\")\n",
    "    print(\"3. Withdraw\")\n",
    "    print(\"4. Exit\")\n",
    "    choice = input(\"Enter your choice (1-4): \")\n",
    "\n",
    "    if choice == \"1\":\n",
    "        pin = input(\"Enter your PIN: \")\n",
    "        my_ATM.check_balance(pin)\n",
    "\n",
    "    elif choice == \"2\":\n",
    "        pin = input(\"Enter your PIN: \")\n",
    "        amount = int(input(\"Enter amount to deposit: \"))\n",
    "        my_ATM.deposit(pin,amount)\n",
    "\n",
    "    elif choice == \"3\":\n",
    "        pin = input(\"Enter your PIN: \")\n",
    "        amount = int(input(\"Enter amount to withdraw: \"))\n",
    "        my_ATM.withdraw(pin,amount)\n",
    "\n",
    "    elif choice == \"4\":\n",
    "        my_ATM.exit()\n",
    "        break\n",
    "    else:\n",
    "        print(\"Invalid choice. Please enter a number between 1 and 4.\")"
   ]
  }
 ],
 "metadata": {
  "kernelspec": {
   "display_name": "Python 3",
   "language": "python",
   "name": "python3"
  },
  "language_info": {
   "codemirror_mode": {
    "name": "ipython",
    "version": 3
   },
   "file_extension": ".py",
   "mimetype": "text/x-python",
   "name": "python",
   "nbconvert_exporter": "python",
   "pygments_lexer": "ipython3",
   "version": "3.12.6"
  }
 },
 "nbformat": 4,
 "nbformat_minor": 5
}
